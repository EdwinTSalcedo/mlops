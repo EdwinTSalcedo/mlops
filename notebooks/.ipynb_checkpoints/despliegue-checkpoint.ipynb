{
 "cells": [
  {
   "cell_type": "markdown",
   "metadata": {
    "id": "pYIGV2b7j6bc"
   },
   "source": [
    "# Despliegue\n",
    "\n",
    "En el presente notebook podras encontrar una implementación de TensorFlow para la clasificación de digitos manuscritos. Esta tiene como fin generar un modelo para su despliegue dentro de un contenedor docker. Esta vez, usaremos el dataset MNIST desde la librería TensorFlow Datasets, el cual es muy usado por la comunidad para primeros experimentos de Deep Learning y Machine Learning para reconocimiento de imágenes.\n"
   ]
  },
  {
   "cell_type": "code",
   "execution_count": 7,
   "metadata": {
    "colab": {
     "base_uri": "https://localhost:8080/"
    },
    "id": "Iu2MPTdXjoAg",
    "outputId": "85e5a6e5-695a-4104-84e6-8de87bbec7f8"
   },
   "outputs": [
    {
     "name": "stderr",
     "output_type": "stream",
     "text": [
      "/Users/edwinsalcedo/anaconda3/envs/mlops/lib/python3.9/site-packages/tqdm/auto.py:21: TqdmWarning: IProgress not found. Please update jupyter and ipywidgets. See https://ipywidgets.readthedocs.io/en/stable/user_install.html\n",
      "  from .autonotebook import tqdm as notebook_tqdm\n"
     ]
    }
   ],
   "source": [
    "# Importar librerías\n",
    "import random\n",
    "import pandas as pd\n",
    "import numpy as np\n",
    "import matplotlib.pyplot as plt \n",
    "import pickle\n",
    "\n",
    "from sklearn.model_selection import train_test_split\n",
    "from sklearn.metrics import accuracy_score, precision_score, recall_score,log_loss, confusion_matrix, roc_curve, ConfusionMatrixDisplay, RocCurveDisplay\n",
    "\n",
    "import tensorflow as tf\n",
    "import tensorflow_datasets as tfds"
   ]
  },
  {
   "cell_type": "code",
   "execution_count": 8,
   "metadata": {},
   "outputs": [
    {
     "name": "stderr",
     "output_type": "stream",
     "text": [
      "2025-05-20 20:01:12.724275: W external/local_xla/xla/tsl/platform/cloud/google_auth_provider.cc:184] All attempts to get a Google authentication bearer token failed, returning an empty token. Retrieving token from files failed with \"NOT_FOUND: Could not locate the credentials file.\". Retrieving token from GCE failed with \"FAILED_PRECONDITION: Error executing an HTTP request: libcurl code 6 meaning 'Could not resolve hostname', error details: Could not resolve host: metadata.google.internal\".\n"
     ]
    },
    {
     "name": "stdout",
     "output_type": "stream",
     "text": [
      "\u001b[1mDownloading and preparing dataset 11.06 MiB (download: 11.06 MiB, generated: 21.00 MiB, total: 32.06 MiB) to /Users/edwinsalcedo/tensorflow_datasets/mnist/3.0.1...\u001b[0m\n"
     ]
    },
    {
     "name": "stderr",
     "output_type": "stream",
     "text": [
      "Dl Completed...: 100%|███████████████████████████████████████████████████████████████████████████████████████| 5/5 [00:02<00:00,  1.68 file/s]"
     ]
    },
    {
     "name": "stdout",
     "output_type": "stream",
     "text": [
      "\u001b[1mDataset mnist downloaded and prepared to /Users/edwinsalcedo/tensorflow_datasets/mnist/3.0.1. Subsequent calls will reuse this data.\u001b[0m\n"
     ]
    },
    {
     "name": "stderr",
     "output_type": "stream",
     "text": [
      "\n"
     ]
    }
   ],
   "source": [
    "training_set, dataset_info_train = tfds.load('mnist', split = 'train', as_supervised = True, with_info = True)\n",
    "testing_set, dataset_info_test = tfds.load('mnist', split = 'test', as_supervised = True, with_info = True)"
   ]
  },
  {
   "cell_type": "code",
   "execution_count": 25,
   "metadata": {},
   "outputs": [
    {
     "name": "stdout",
     "output_type": "stream",
     "text": [
      "Existen 10 categorías en el dataset\n",
      "Existen 60000 imágenes en el conjunto de entrenamiento\n"
     ]
    }
   ],
   "source": [
    "# Ver caracteristicas del dataset\n",
    "num_classes = dataset_info_train.features['label'].num_classes\n",
    "print('Existen',num_classes,'categorías en el dataset')\n",
    "\n",
    "num_training_examples = dataset_info_train.splits['train'].num_examples\n",
    "print('Existen',num_training_examples, 'imágenes en el conjunto de entrenamiento')"
   ]
  },
  {
   "cell_type": "code",
   "execution_count": 26,
   "metadata": {},
   "outputs": [
    {
     "name": "stderr",
     "output_type": "stream",
     "text": [
      "2025-05-20 20:35:31.277721: I tensorflow/core/kernels/data/tf_record_dataset_op.cc:387] The default buffer size is 262144, which is overridden by the user specified `buffer_size` of 8388608\n"
     ]
    },
    {
     "name": "stdout",
     "output_type": "stream",
     "text": [
      "dtype: <dtype: 'float32'>\n",
      "shape: (64, 28, 28, 1)\n",
      "Etiquetas: tf.Tensor(\n",
      "[2 5 9 9 8 5 6 6 2 7 9 7 8 9 6 9 5 8 0 3 1 8 1 8 6 6 8 3 6 2 8 7 8 6 5 2 5\n",
      " 7 1 2 3 7 0 2 0 6 2 0 5 7 5 5 1 5 4 6 0 2 2 4 6 2 3 7], shape=(64,), dtype=int64)\n"
     ]
    },
    {
     "name": "stderr",
     "output_type": "stream",
     "text": [
      "2025-05-20 20:35:31.491309: W tensorflow/core/kernels/data/cache_dataset_ops.cc:916] The calling iterator did not fully read the dataset being cached. In order to avoid unexpected truncation of the dataset, the partially cached contents of the dataset  will be discarded. This can happen if you have an input pipeline similar to `dataset.cache().take(k).repeat()`. You should use `dataset.take(k).cache().repeat()` instead.\n",
      "2025-05-20 20:35:31.493006: W tensorflow/core/kernels/data/cache_dataset_ops.cc:916] The calling iterator did not fully read the dataset being cached. In order to avoid unexpected truncation of the dataset, the partially cached contents of the dataset  will be discarded. This can happen if you have an input pipeline similar to `dataset.cache().take(k).repeat()`. You should use `dataset.take(k).cache().repeat()` instead.\n",
      "2025-05-20 20:35:31.498710: I tensorflow/core/framework/local_rendezvous.cc:407] Local rendezvous is aborting with status: OUT_OF_RANGE: End of sequence\n"
     ]
    }
   ],
   "source": [
    "def normalize(image, label):\n",
    "    # Convertir la imagen a float32 para usar valores decimales en el tensor\n",
    "    image = tf.cast(image, tf.float32)\n",
    "    # Dividir el tensor entre el nivel de intensidad mas alto en la imagen\n",
    "    image /= 255\n",
    "\n",
    "    return image, label\n",
    "\n",
    "def prepare_subset(subset, batch_size):\n",
    "  # Almacenar el subconjunto de datos de entrenamiento en cache\n",
    "  batches = subset.cache()\n",
    "  # Barajar (intercambiar el orden) el subconjunto. Esta mezcla aleatoria se\n",
    "  # hara antes de procesar el dataset con el modelo. Podemos definir el comportamiento\n",
    "  # de esta función (cuan barajados estaran los lotes) definiendo un valor igual o\n",
    "  # menor al tamaño del subconjunto. Para realizar un barajamiento completo con\n",
    "  # respecto a todo el subconjunto, solo basta pasar como parametro el tamaño completo\n",
    "  # del subconjunto. En este caso tomaremos en cuenta a la cuarta parte.\n",
    "  batches = batches.shuffle(num_training_examples//4)\n",
    "  # Dividir al subconjunto en lotes y aplicarles la función normalize()\n",
    "  # prefetch(1) convierte a esta tarea en asincrona, por lo que seguira su ejecución\n",
    "  # sin paralizar toda la tarea de cargado de datos. De esta manera, las tareas de\n",
    "  # procesamiento de datos se llevaran a cabo en paralelo\n",
    "  batches = batches.batch(batch_size).map(normalize).prefetch(1)\n",
    "\n",
    "  return batches\n",
    "\n",
    "# Primer hiperparametro. Tamaño de lote.\n",
    "BATCH_SIZE = 64\n",
    "\n",
    "training_batches = prepare_subset(training_set, BATCH_SIZE)\n",
    "testing_batches = prepare_subset(testing_set, BATCH_SIZE)\n",
    "\n",
    "# Mostrar el contenido de un batch\n",
    "for image_batch, label_batch in training_batches.take(1):\n",
    "    print('dtype:', image_batch.dtype)\n",
    "    print('shape:', image_batch.shape)\n",
    "    image_batch\n",
    "\n",
    "    print('Etiquetas:', label_batch)"
   ]
  },
  {
   "cell_type": "code",
   "execution_count": 7,
   "metadata": {},
   "outputs": [
    {
     "name": "stdout",
     "output_type": "stream",
     "text": [
      "Model: \"sequential\"\n",
      "_________________________________________________________________\n",
      " Layer (type)                Output Shape              Param #   \n",
      "=================================================================\n",
      " flatten (Flatten)           (None, 784)               0         \n",
      "                                                                 \n",
      " dense (Dense)               (None, 128)               100480    \n",
      "                                                                 \n",
      " dense_1 (Dense)             (None, 64)                8256      \n",
      "                                                                 \n",
      " dense_2 (Dense)             (None, 10)                650       \n",
      "                                                                 \n",
      "=================================================================\n",
      "Total params: 109386 (427.29 KB)\n",
      "Trainable params: 109386 (427.29 KB)\n",
      "Non-trainable params: 0 (0.00 Byte)\n",
      "_________________________________________________________________\n"
     ]
    }
   ],
   "source": [
    "# Crear red neuronal\n",
    "model = tf.keras.Sequential([\n",
    "        tf.keras.layers.Flatten(input_shape = (28,28,1)),\n",
    "        tf.keras.layers.Dense(128, activation = 'relu'),\n",
    "        tf.keras.layers.Dense(64, activation = 'relu'),\n",
    "        tf.keras.layers.Dense(10, activation = 'softmax')\n",
    "])\n",
    "\n",
    "# Mostrar resumen del modelo\n",
    "model.summary()"
   ]
  },
  {
   "cell_type": "code",
   "execution_count": 8,
   "metadata": {},
   "outputs": [],
   "source": [
    "# Inicializar los pesos y bias en el modelo\n",
    "model.build((None, 28, 28, 1))\n",
    "\n",
    "# Limpiar los datos en la RAM  que hubiesen sido guardados en entrenamientos anteriores\n",
    "tf.keras.backend.clear_session()"
   ]
  },
  {
   "cell_type": "code",
   "execution_count": 3,
   "metadata": {
    "colab": {
     "base_uri": "https://localhost:8080/"
    },
    "id": "zg2C01hokJVC",
    "outputId": "ab8ae5fc-605e-4d67-a9a6-4ba8f555049f"
   },
   "outputs": [
    {
     "name": "stderr",
     "output_type": "stream",
     "text": [
      "/Users/edwinsalcedo/opt/anaconda3/envs/deployment/lib/python3.9/site-packages/sklearn/datasets/_openml.py:968: FutureWarning: The default value of `parser` will change from `'liac-arff'` to `'auto'` in 1.4. You can set `parser='auto'` to silence this warning. Therefore, an `ImportError` will be raised from 1.4 if the dataset is dense and pandas is not installed. Note that the pandas parser may return different data types. See the Notes Section in fetch_openml's API doc for details.\n",
      "  warn(\n"
     ]
    }
   ],
   "source": [
    "from sklearn.datasets import fetch_openml\n",
    "# Descargar dataset mnist\n",
    "X, y = fetch_openml(\"mnist_784\", version=1, return_X_y=True, as_frame=False)"
   ]
  },
  {
   "cell_type": "code",
   "execution_count": 9,
   "metadata": {},
   "outputs": [],
   "source": [
    "model.compile(optimizer='adam',\n",
    "              loss='sparse_categorical_crossentropy',\n",
    "              metrics=['accuracy'])"
   ]
  },
  {
   "cell_type": "code",
   "execution_count": 10,
   "metadata": {},
   "outputs": [
    {
     "name": "stderr",
     "output_type": "stream",
     "text": [
      "2024-02-10 03:34:15.806525: W tensorflow/core/kernels/data/cache_dataset_ops.cc:858] The calling iterator did not fully read the dataset being cached. In order to avoid unexpected truncation of the dataset, the partially cached contents of the dataset  will be discarded. This can happen if you have an input pipeline similar to `dataset.cache().take(k).repeat()`. You should use `dataset.take(k).cache().repeat()` instead.\n",
      "2024-02-10 03:34:15.808942: W tensorflow/core/kernels/data/cache_dataset_ops.cc:858] The calling iterator did not fully read the dataset being cached. In order to avoid unexpected truncation of the dataset, the partially cached contents of the dataset  will be discarded. This can happen if you have an input pipeline similar to `dataset.cache().take(k).repeat()`. You should use `dataset.take(k).cache().repeat()` instead.\n"
     ]
    },
    {
     "name": "stdout",
     "output_type": "stream",
     "text": [
      "2/2 [==============================] - 0s 8ms/step - loss: 2.3824 - accuracy: 0.0781\n",
      "\n",
      "Perdida (Loss) antes del entrenamiento: 2.382\n",
      "Precisión antes del entrenamiento: 7.812%\n"
     ]
    }
   ],
   "source": [
    "for image_batch, label_batch in training_batches.take(1):\n",
    "    loss, accuracy = model.evaluate(image_batch, label_batch)\n",
    "\n",
    "print('\\nPerdida (Loss) antes del entrenamiento: {:,.3f}'.format(loss))\n",
    "print('Precisión antes del entrenamiento: {:.3%}'.format(accuracy))"
   ]
  },
  {
   "cell_type": "code",
   "execution_count": 11,
   "metadata": {},
   "outputs": [
    {
     "name": "stdout",
     "output_type": "stream",
     "text": [
      "Epoch 1/10\n",
      "938/938 [==============================] - 4s 3ms/step - loss: 0.2700 - accuracy: 0.9230\n",
      "Epoch 2/10\n",
      "938/938 [==============================] - 2s 2ms/step - loss: 0.1122 - accuracy: 0.9666\n",
      "Epoch 3/10\n",
      "938/938 [==============================] - 2s 2ms/step - loss: 0.0775 - accuracy: 0.9760\n",
      "Epoch 4/10\n",
      "938/938 [==============================] - 2s 2ms/step - loss: 0.0603 - accuracy: 0.9812\n",
      "Epoch 5/10\n",
      "938/938 [==============================] - 2s 3ms/step - loss: 0.0469 - accuracy: 0.9852\n",
      "Epoch 6/10\n",
      "938/938 [==============================] - 2s 2ms/step - loss: 0.0371 - accuracy: 0.9883\n",
      "Epoch 7/10\n",
      "938/938 [==============================] - 2s 2ms/step - loss: 0.0306 - accuracy: 0.9903\n",
      "Epoch 8/10\n",
      "938/938 [==============================] - 2s 2ms/step - loss: 0.0263 - accuracy: 0.9912\n",
      "Epoch 9/10\n",
      "938/938 [==============================] - 2s 2ms/step - loss: 0.0216 - accuracy: 0.9925\n",
      "Epoch 10/10\n",
      "938/938 [==============================] - 2s 2ms/step - loss: 0.0178 - accuracy: 0.9944\n"
     ]
    }
   ],
   "source": [
    "# Entrenar modelo\n",
    "EPOCHS = 10\n",
    "\n",
    "history = model.fit(training_batches, epochs = EPOCHS)"
   ]
  },
  {
   "cell_type": "code",
   "execution_count": 12,
   "metadata": {},
   "outputs": [
    {
     "name": "stdout",
     "output_type": "stream",
     "text": [
      "{'verbose': 1, 'epochs': 10, 'steps': 938}\n",
      "[0.27003905177116394, 0.1122027263045311, 0.07751749455928802, 0.06032789126038551, 0.04689581319689751, 0.03705395385622978, 0.03057164140045643, 0.02634207159280777, 0.02163022942841053, 0.017786690965294838]\n",
      "None\n",
      "[0.9230499863624573, 0.9666000008583069, 0.9759666919708252, 0.981249988079071, 0.9851999878883362, 0.9882500171661377, 0.9903166890144348, 0.9911500215530396, 0.9924833178520203, 0.9944166541099548]\n",
      "None\n"
     ]
    }
   ],
   "source": [
    "# Mostrar las métricas recolectadas durante cada época\n",
    "print(history.params)\n",
    "print(print(history.history['loss']))\n",
    "print(print(history.history['accuracy']))"
   ]
  },
  {
   "cell_type": "code",
   "execution_count": 13,
   "metadata": {},
   "outputs": [
    {
     "name": "stdout",
     "output_type": "stream",
     "text": [
      "2/2 [==============================] - 0s 4ms/step\n"
     ]
    },
    {
     "name": "stderr",
     "output_type": "stream",
     "text": [
      "2024-02-10 03:35:24.698369: W tensorflow/core/kernels/data/cache_dataset_ops.cc:858] The calling iterator did not fully read the dataset being cached. In order to avoid unexpected truncation of the dataset, the partially cached contents of the dataset  will be discarded. This can happen if you have an input pipeline similar to `dataset.cache().take(k).repeat()`. You should use `dataset.take(k).cache().repeat()` instead.\n"
     ]
    },
    {
     "data": {
      "image/png": "[encoded data removed]",
      "text/plain": [
       "<Figure size 600x900 with 2 Axes>"
      ]
     },
     "metadata": {},
     "output_type": "display_data"
    }
   ],
   "source": [
    "# Realizar inferencia con una instancia\n",
    "for image_batch, label_batch in testing_batches.take(1):\n",
    "  # Predecir resultados con un batch\n",
    "  ps = model.predict(image_batch)\n",
    "  # Recuperar la primera imagen\n",
    "  first_image = image_batch.numpy().squeeze()[0]\n",
    "\n",
    "# Visualizar la imagen y las probabilidades resultantes de pasar la imagen por el modelo\n",
    "fig, (ax1, ax2) = plt.subplots(figsize=(6,9), ncols=2)\n",
    "ax1.imshow(first_image, cmap = plt.cm.binary)\n",
    "ax1.axis('off')\n",
    "ax2.barh(np.arange(10), ps[0])\n",
    "ax2.set_aspect(0.1)\n",
    "ax2.set_yticks(np.arange(10))\n",
    "ax2.set_yticklabels(np.arange(10))\n",
    "ax2.set_title('Class Probability')\n",
    "ax2.set_xlim(0, 1.1)\n",
    "plt.tight_layout()"
   ]
  },
  {
   "cell_type": "code",
   "execution_count": 15,
   "metadata": {
    "id": "5ISN-VE36g8N"
   },
   "outputs": [
    {
     "name": "stdout",
     "output_type": "stream",
     "text": [
      "INFO:tensorflow:Assets written to: saved_model/my_model/assets\n"
     ]
    },
    {
     "name": "stderr",
     "output_type": "stream",
     "text": [
      "INFO:tensorflow:Assets written to: saved_model/my_model/assets\n"
     ]
    }
   ],
   "source": [
    "# Guardar el modelo entero como un SavedModel\n",
    "!mkdir -p saved_model\n",
    "model.save('saved_model/my_model')"
   ]
  }
 ],
 "metadata": {
  "colab": {
   "provenance": []
  },
  "kernelspec": {
   "display_name": "mlops",
   "language": "python",
   "name": "mlops"
  },
  "language_info": {
   "codemirror_mode": {
    "name": "ipython",
    "version": 3
   },
   "file_extension": ".py",
   "mimetype": "text/x-python",
   "name": "python",
   "nbconvert_exporter": "python",
   "pygments_lexer": "ipython3",
   "version": "3.9.22"
  }
 },
 "nbformat": 4,
 "nbformat_minor": 4
}
